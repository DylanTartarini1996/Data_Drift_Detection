{
 "cells": [
  {
   "cell_type": "markdown",
   "metadata": {},
   "source": [
    "#  **DATA DRIFT DETECTION**\n",
    "Machine Learning models are unique and usually optimized for very specific problems, but their performance may nevertheless vary over time.  \n",
    "Team develops the model, tests it and everything works fine for some time. Then as time goes by, testing data is incorporated in the training set and new data come into production. One of the top reasons why performance of ML models decreases over time is caused by a drift in data.  \n",
    "Data drift is described as a change in the distribution of data over time.  \n",
    "This may occur in operational ML pipelines, when the drift occurs as the change in the distribution of the baseline data set used to train a particular model and the current, real-time production data. The distribution of the latter might be different because of any alteration in the real world: the **_stochastic process_** that generates the data in question has changed.  \n",
    "A classical example of this is the presence of seasonality in data, but drifts can also be caused by extreme events (pandemics, for example..); what is important to remember is that drifts happens when the statistical properties of the underlying variables that predict an outcome change.  \n",
    "Goal of this notebook is to explain two ways to run checks on your training and testing data to verify the presence of a data drift."
   ]
  },
  {
   "cell_type": "code",
   "execution_count": 17,
   "metadata": {},
   "outputs": [],
   "source": [
    "import numpy as np\n",
    "import pandas as pd\n",
    "import matplotlib.pyplot as plt\n",
    "import scipy as sp\n",
    "import sklearn as skl\n",
    "from sklearn.model_selection import train_test_split\n",
    "from sklearn.ensemble import RandomForestClassifier"
   ]
  },
  {
   "cell_type": "markdown",
   "metadata": {},
   "source": [
    "## Choice of dataset\n",
    "First, we import a dataset for our experiment: I choose the **_Credit Card Fraud dataset_** freely available [kaggle](https://www.kaggle.com/mlg-ulb/creditcardfraud).  \n",
    "This dataset contains transactions made by credit cards in September 2013 by European cardholders, and is usually used for fraud detection and unbalanced classes studies: it presents transactions that occurred in two days, where we have 492 frauds out of 284,807 transactions.  \n",
    "The dataset contains only numerical input variables which are the result of a **_PCA transformation_**. Due to confidentiality issues, original authors cannot provide the original features and more background information about the data. Features V1, V2, … V28 are the principal components obtained with PCA, the only features which have not been transformed with PCA are 'Time' and 'Amount'. Feature 'Time' contains the seconds elapsed between each transaction and the first transaction in the dataset. The feature 'Amount' is the transaction Amount. Feature 'Class' is the response variable and it takes value 1 in case of fraud and 0 otherwise.  \n",
    "Now this dataset is very handy for our example because since the features come from PCA performed on real data, we do not (and can not) know anything about them. But we can still verify the presence of a drift whenever new data comes in."
   ]
  },
  {
   "cell_type": "code",
   "execution_count": 158,
   "metadata": {},
   "outputs": [],
   "source": [
    "df = pd.read_csv('/creditcard.csv')"
   ]
  },
  {
   "cell_type": "markdown",
   "metadata": {},
   "source": [
    "We perform some very basic exploration of the dataset in our possession"
   ]
  },
  {
   "cell_type": "code",
   "execution_count": 157,
   "metadata": {},
   "outputs": [
    {
     "data": {
      "text/plain": [
       "(284807, 30)"
      ]
     },
     "execution_count": 157,
     "metadata": {},
     "output_type": "execute_result"
    }
   ],
   "source": [
    "df.shape"
   ]
  },
  {
   "cell_type": "code",
   "execution_count": 3,
   "metadata": {},
   "outputs": [
    {
     "data": {
      "text/plain": [
       "Time      float64\n",
       "V1        float64\n",
       "V2        float64\n",
       "V3        float64\n",
       "V4        float64\n",
       "V5        float64\n",
       "V6        float64\n",
       "V7        float64\n",
       "V8        float64\n",
       "V9        float64\n",
       "V10       float64\n",
       "V11       float64\n",
       "V12       float64\n",
       "V13       float64\n",
       "V14       float64\n",
       "V15       float64\n",
       "V16       float64\n",
       "V17       float64\n",
       "V18       float64\n",
       "V19       float64\n",
       "V20       float64\n",
       "V21       float64\n",
       "V22       float64\n",
       "V23       float64\n",
       "V24       float64\n",
       "V25       float64\n",
       "V26       float64\n",
       "V27       float64\n",
       "V28       float64\n",
       "Amount    float64\n",
       "Class       int64\n",
       "dtype: object"
      ]
     },
     "execution_count": 3,
     "metadata": {},
     "output_type": "execute_result"
    }
   ],
   "source": [
    "df.dtypes"
   ]
  },
  {
   "cell_type": "code",
   "execution_count": 5,
   "metadata": {},
   "outputs": [
    {
     "data": {
      "text/plain": [
       "<bound method NDFrame.head of             Time         V1         V2        V3        V4        V5  \\\n",
       "0            0.0  -1.359807  -0.072781  2.536347  1.378155 -0.338321   \n",
       "1            0.0   1.191857   0.266151  0.166480  0.448154  0.060018   \n",
       "2            1.0  -1.358354  -1.340163  1.773209  0.379780 -0.503198   \n",
       "3            1.0  -0.966272  -0.185226  1.792993 -0.863291 -0.010309   \n",
       "4            2.0  -1.158233   0.877737  1.548718  0.403034 -0.407193   \n",
       "...          ...        ...        ...       ...       ...       ...   \n",
       "284802  172786.0 -11.881118  10.071785 -9.834783 -2.066656 -5.364473   \n",
       "284803  172787.0  -0.732789  -0.055080  2.035030 -0.738589  0.868229   \n",
       "284804  172788.0   1.919565  -0.301254 -3.249640 -0.557828  2.630515   \n",
       "284805  172788.0  -0.240440   0.530483  0.702510  0.689799 -0.377961   \n",
       "284806  172792.0  -0.533413  -0.189733  0.703337 -0.506271 -0.012546   \n",
       "\n",
       "              V6        V7        V8        V9  ...       V21       V22  \\\n",
       "0       0.462388  0.239599  0.098698  0.363787  ... -0.018307  0.277838   \n",
       "1      -0.082361 -0.078803  0.085102 -0.255425  ... -0.225775 -0.638672   \n",
       "2       1.800499  0.791461  0.247676 -1.514654  ...  0.247998  0.771679   \n",
       "3       1.247203  0.237609  0.377436 -1.387024  ... -0.108300  0.005274   \n",
       "4       0.095921  0.592941 -0.270533  0.817739  ... -0.009431  0.798278   \n",
       "...          ...       ...       ...       ...  ...       ...       ...   \n",
       "284802 -2.606837 -4.918215  7.305334  1.914428  ...  0.213454  0.111864   \n",
       "284803  1.058415  0.024330  0.294869  0.584800  ...  0.214205  0.924384   \n",
       "284804  3.031260 -0.296827  0.708417  0.432454  ...  0.232045  0.578229   \n",
       "284805  0.623708 -0.686180  0.679145  0.392087  ...  0.265245  0.800049   \n",
       "284806 -0.649617  1.577006 -0.414650  0.486180  ...  0.261057  0.643078   \n",
       "\n",
       "             V23       V24       V25       V26       V27       V28  Amount  \\\n",
       "0      -0.110474  0.066928  0.128539 -0.189115  0.133558 -0.021053  149.62   \n",
       "1       0.101288 -0.339846  0.167170  0.125895 -0.008983  0.014724    2.69   \n",
       "2       0.909412 -0.689281 -0.327642 -0.139097 -0.055353 -0.059752  378.66   \n",
       "3      -0.190321 -1.175575  0.647376 -0.221929  0.062723  0.061458  123.50   \n",
       "4      -0.137458  0.141267 -0.206010  0.502292  0.219422  0.215153   69.99   \n",
       "...          ...       ...       ...       ...       ...       ...     ...   \n",
       "284802  1.014480 -0.509348  1.436807  0.250034  0.943651  0.823731    0.77   \n",
       "284803  0.012463 -1.016226 -0.606624 -0.395255  0.068472 -0.053527   24.79   \n",
       "284804 -0.037501  0.640134  0.265745 -0.087371  0.004455 -0.026561   67.88   \n",
       "284805 -0.163298  0.123205 -0.569159  0.546668  0.108821  0.104533   10.00   \n",
       "284806  0.376777  0.008797 -0.473649 -0.818267 -0.002415  0.013649  217.00   \n",
       "\n",
       "        Class  \n",
       "0           0  \n",
       "1           0  \n",
       "2           0  \n",
       "3           0  \n",
       "4           0  \n",
       "...       ...  \n",
       "284802      0  \n",
       "284803      0  \n",
       "284804      0  \n",
       "284805      0  \n",
       "284806      0  \n",
       "\n",
       "[284807 rows x 31 columns]>"
      ]
     },
     "execution_count": 5,
     "metadata": {},
     "output_type": "execute_result"
    }
   ],
   "source": [
    "df.head"
   ]
  },
  {
   "cell_type": "code",
   "execution_count": 6,
   "metadata": {},
   "outputs": [],
   "source": [
    "df = df.drop('Time', axis=1) # We are not interested in the variable 'Time' for this excercise, so just drop it"
   ]
  },
  {
   "cell_type": "markdown",
   "metadata": {},
   "source": [
    "What is the percentage of frauds in this dataset? That is to say, what is how many frauds out of all the transactions in the dset are there?  \n",
    "Remember that dset contains information for only two days."
   ]
  },
  {
   "cell_type": "code",
   "execution_count": 7,
   "metadata": {},
   "outputs": [
    {
     "name": "stdout",
     "output_type": "stream",
     "text": [
      "Percentage of frauds in the dataset is  0.173 % of total transactions\n"
     ]
    }
   ],
   "source": [
    "print('Percentage of frauds in the dataset is ', np.round((np.sum(df.Class) / len(df))*100, 3), '% of total transactions')"
   ]
  },
  {
   "cell_type": "markdown",
   "metadata": {},
   "source": [
    "## Original training and testing set ##  \n",
    "Since this is a working example, we perform the original train-test splitting ourselves. Remember that ideally, testing in production should be **_newly acquired data_** that our model hasn't see previously. "
   ]
  },
  {
   "cell_type": "code",
   "execution_count": 9,
   "metadata": {},
   "outputs": [
    {
     "name": "stdout",
     "output_type": "stream",
     "text": [
      "(199364, 29) (85443, 29) (199364,) (85443,)\n"
     ]
    }
   ],
   "source": [
    "X_orig, y_orig = df.loc[:, df.columns != 'Class'], df['Class']\n",
    "X_train_orig, X_test_orig, y_train_orig, y_test_orig = train_test_split(X_orig, y_orig, test_size=0.3, random_state=1, stratify=y_orig) \n",
    "print(X_train_orig.shape, X_test_orig.shape, y_train_orig.shape, y_test_orig.shape) # making sure that train-test splitting happens with the same fraud pct"
   ]
  },
  {
   "cell_type": "code",
   "execution_count": 10,
   "metadata": {},
   "outputs": [
    {
     "name": "stdout",
     "output_type": "stream",
     "text": [
      "Percentage of frauds in the train dset is  0.173 % of total transactions\n",
      "AND\n",
      "Percentage of frauds in the train dset is  0.173 % of total transactions\n"
     ]
    }
   ],
   "source": [
    "print('Percentage of frauds in the train dset is ', np.round((np.sum(y_train_orig) / len(y_train_orig))*100, 3), '% of total transactions') #check\n",
    "print('AND')\n",
    "print('Percentage of frauds in the train dset is ', np.round((np.sum(y_test_orig) / len(y_test_orig))*100, 3), '% of total transactions')"
   ]
  },
  {
   "cell_type": "markdown",
   "metadata": {},
   "source": [
    "## Data Drift detection with **Random Forest** ##\n",
    "We want to know wheter or not there's a drift between training and testing phase.  \n",
    "In production, every now and then (may be on daily, weekly, monthly basis..) new data comes in: we want to discover if new data generates from the same stochastic process that generated \"old\" data (which is, of course, still in the training set!).  \n",
    "How to do this? The answer is quite simple.  \n",
    "We translate the question this way: is there a way a (simple) Machine Learning algorythm can distinguish between training and testing set in a deterministic way? If the answer is yes, then we may be having a data drift problem.  \n",
    "Let's start by labelling with zeros observations from the original training set, while the original testing data will be labelled with 1"
   ]
  },
  {
   "cell_type": "code",
   "execution_count": 11,
   "metadata": {},
   "outputs": [],
   "source": [
    "X_train_orig['Target'] = 0 \n",
    "X_test_orig['Target'] = 1"
   ]
  },
  {
   "cell_type": "markdown",
   "metadata": {},
   "source": [
    "We then join training and testing set and proceed to shuffle the new dataframe.  \n",
    "The real Class value (fraud/not a fraud) is none of our business, because we really just want to check if the stochastic process that generates frauds is still the same between training and testing, therefore we do not care about the 'Class' feature in the original dataset. "
   ]
  },
  {
   "cell_type": "code",
   "execution_count": 12,
   "metadata": {},
   "outputs": [
    {
     "data": {
      "text/html": [
       "<div>\n",
       "<style scoped>\n",
       "    .dataframe tbody tr th:only-of-type {\n",
       "        vertical-align: middle;\n",
       "    }\n",
       "\n",
       "    .dataframe tbody tr th {\n",
       "        vertical-align: top;\n",
       "    }\n",
       "\n",
       "    .dataframe thead th {\n",
       "        text-align: right;\n",
       "    }\n",
       "</style>\n",
       "<table border=\"1\" class=\"dataframe\">\n",
       "  <thead>\n",
       "    <tr style=\"text-align: right;\">\n",
       "      <th></th>\n",
       "      <th>V1</th>\n",
       "      <th>V2</th>\n",
       "      <th>V3</th>\n",
       "      <th>V4</th>\n",
       "      <th>V5</th>\n",
       "      <th>V6</th>\n",
       "      <th>V7</th>\n",
       "      <th>V8</th>\n",
       "      <th>V9</th>\n",
       "      <th>V10</th>\n",
       "      <th>...</th>\n",
       "      <th>V21</th>\n",
       "      <th>V22</th>\n",
       "      <th>V23</th>\n",
       "      <th>V24</th>\n",
       "      <th>V25</th>\n",
       "      <th>V26</th>\n",
       "      <th>V27</th>\n",
       "      <th>V28</th>\n",
       "      <th>Amount</th>\n",
       "      <th>Target</th>\n",
       "    </tr>\n",
       "  </thead>\n",
       "  <tbody>\n",
       "    <tr>\n",
       "      <th>0</th>\n",
       "      <td>-0.574501</td>\n",
       "      <td>1.117222</td>\n",
       "      <td>1.635889</td>\n",
       "      <td>2.855814</td>\n",
       "      <td>-0.369436</td>\n",
       "      <td>-0.180819</td>\n",
       "      <td>0.209807</td>\n",
       "      <td>0.228980</td>\n",
       "      <td>-0.703786</td>\n",
       "      <td>0.527349</td>\n",
       "      <td>...</td>\n",
       "      <td>0.047201</td>\n",
       "      <td>0.329075</td>\n",
       "      <td>-0.004759</td>\n",
       "      <td>0.718633</td>\n",
       "      <td>-0.267540</td>\n",
       "      <td>0.079824</td>\n",
       "      <td>-0.315484</td>\n",
       "      <td>-0.224792</td>\n",
       "      <td>12.52</td>\n",
       "      <td>1</td>\n",
       "    </tr>\n",
       "    <tr>\n",
       "      <th>1</th>\n",
       "      <td>0.297272</td>\n",
       "      <td>-3.596179</td>\n",
       "      <td>-3.491096</td>\n",
       "      <td>0.429110</td>\n",
       "      <td>-0.885160</td>\n",
       "      <td>-1.408148</td>\n",
       "      <td>1.884916</td>\n",
       "      <td>-0.914348</td>\n",
       "      <td>-1.192692</td>\n",
       "      <td>0.580871</td>\n",
       "      <td>...</td>\n",
       "      <td>0.506746</td>\n",
       "      <td>-0.204007</td>\n",
       "      <td>-0.966447</td>\n",
       "      <td>0.097492</td>\n",
       "      <td>0.099141</td>\n",
       "      <td>0.916954</td>\n",
       "      <td>-0.312858</td>\n",
       "      <td>0.081973</td>\n",
       "      <td>1018.00</td>\n",
       "      <td>0</td>\n",
       "    </tr>\n",
       "    <tr>\n",
       "      <th>2</th>\n",
       "      <td>-1.708808</td>\n",
       "      <td>0.777698</td>\n",
       "      <td>1.059110</td>\n",
       "      <td>-0.455618</td>\n",
       "      <td>0.345712</td>\n",
       "      <td>-0.893250</td>\n",
       "      <td>1.396244</td>\n",
       "      <td>-0.381813</td>\n",
       "      <td>-0.329686</td>\n",
       "      <td>-0.172026</td>\n",
       "      <td>...</td>\n",
       "      <td>-0.403242</td>\n",
       "      <td>-0.748797</td>\n",
       "      <td>0.336336</td>\n",
       "      <td>0.383539</td>\n",
       "      <td>-0.370202</td>\n",
       "      <td>-0.292606</td>\n",
       "      <td>-0.754060</td>\n",
       "      <td>-0.463178</td>\n",
       "      <td>69.90</td>\n",
       "      <td>0</td>\n",
       "    </tr>\n",
       "    <tr>\n",
       "      <th>3</th>\n",
       "      <td>-1.047911</td>\n",
       "      <td>0.264798</td>\n",
       "      <td>2.882793</td>\n",
       "      <td>1.050493</td>\n",
       "      <td>-1.754437</td>\n",
       "      <td>1.013074</td>\n",
       "      <td>-1.216518</td>\n",
       "      <td>0.993989</td>\n",
       "      <td>-0.289283</td>\n",
       "      <td>0.066573</td>\n",
       "      <td>...</td>\n",
       "      <td>-0.392708</td>\n",
       "      <td>-0.197803</td>\n",
       "      <td>-0.109727</td>\n",
       "      <td>0.396181</td>\n",
       "      <td>0.181980</td>\n",
       "      <td>-0.065889</td>\n",
       "      <td>0.328321</td>\n",
       "      <td>0.089068</td>\n",
       "      <td>12.00</td>\n",
       "      <td>0</td>\n",
       "    </tr>\n",
       "    <tr>\n",
       "      <th>4</th>\n",
       "      <td>1.249711</td>\n",
       "      <td>-0.694850</td>\n",
       "      <td>0.000151</td>\n",
       "      <td>-0.444425</td>\n",
       "      <td>-0.810558</td>\n",
       "      <td>-0.589118</td>\n",
       "      <td>-0.246620</td>\n",
       "      <td>-0.154379</td>\n",
       "      <td>-0.756298</td>\n",
       "      <td>0.562567</td>\n",
       "      <td>...</td>\n",
       "      <td>-0.390296</td>\n",
       "      <td>-0.630127</td>\n",
       "      <td>-0.022713</td>\n",
       "      <td>0.114441</td>\n",
       "      <td>0.327275</td>\n",
       "      <td>1.116745</td>\n",
       "      <td>-0.065491</td>\n",
       "      <td>0.003907</td>\n",
       "      <td>64.99</td>\n",
       "      <td>0</td>\n",
       "    </tr>\n",
       "  </tbody>\n",
       "</table>\n",
       "<p>5 rows × 30 columns</p>\n",
       "</div>"
      ],
      "text/plain": [
       "         V1        V2        V3        V4        V5        V6        V7  \\\n",
       "0 -0.574501  1.117222  1.635889  2.855814 -0.369436 -0.180819  0.209807   \n",
       "1  0.297272 -3.596179 -3.491096  0.429110 -0.885160 -1.408148  1.884916   \n",
       "2 -1.708808  0.777698  1.059110 -0.455618  0.345712 -0.893250  1.396244   \n",
       "3 -1.047911  0.264798  2.882793  1.050493 -1.754437  1.013074 -1.216518   \n",
       "4  1.249711 -0.694850  0.000151 -0.444425 -0.810558 -0.589118 -0.246620   \n",
       "\n",
       "         V8        V9       V10  ...       V21       V22       V23       V24  \\\n",
       "0  0.228980 -0.703786  0.527349  ...  0.047201  0.329075 -0.004759  0.718633   \n",
       "1 -0.914348 -1.192692  0.580871  ...  0.506746 -0.204007 -0.966447  0.097492   \n",
       "2 -0.381813 -0.329686 -0.172026  ... -0.403242 -0.748797  0.336336  0.383539   \n",
       "3  0.993989 -0.289283  0.066573  ... -0.392708 -0.197803 -0.109727  0.396181   \n",
       "4 -0.154379 -0.756298  0.562567  ... -0.390296 -0.630127 -0.022713  0.114441   \n",
       "\n",
       "        V25       V26       V27       V28   Amount  Target  \n",
       "0 -0.267540  0.079824 -0.315484 -0.224792    12.52       1  \n",
       "1  0.099141  0.916954 -0.312858  0.081973  1018.00       0  \n",
       "2 -0.370202 -0.292606 -0.754060 -0.463178    69.90       0  \n",
       "3  0.181980 -0.065889  0.328321  0.089068    12.00       0  \n",
       "4  0.327275  1.116745 -0.065491  0.003907    64.99       0  \n",
       "\n",
       "[5 rows x 30 columns]"
      ]
     },
     "execution_count": 12,
     "metadata": {},
     "output_type": "execute_result"
    }
   ],
   "source": [
    "frames = [X_train_orig, X_test_orig]   \n",
    "drifting_df = pd.concat(frames)\n",
    "drifting_df = drifting_df.sample(frac=1).reset_index(drop=True)   # shuffling the new df\n",
    "drifting_df.shape\n",
    "drifting_df.head()"
   ]
  },
  {
   "cell_type": "markdown",
   "metadata": {},
   "source": [
    "Next step is to train a Random Forest Model on the newly obtained dataset, keeping in mind that our target is now the 'Target' variable, that tells us whether or not the observation comes from the **_original_** training and testing set.  \n",
    "Clearly, we start from random splitting.. "
   ]
  },
  {
   "cell_type": "code",
   "execution_count": 13,
   "metadata": {},
   "outputs": [
    {
     "name": "stdout",
     "output_type": "stream",
     "text": [
      "(199364, 29) (85443, 29) (199364,) (85443,)\n"
     ]
    }
   ],
   "source": [
    "X, y = drifting_df.loc[:, drifting_df.columns != 'Target'], drifting_df['Target']\n",
    "X_train, X_test, y_train, y_test = train_test_split(X, y, test_size=0.3, random_state=1, stratify=y)\n",
    "print(X_train.shape, X_test.shape, y_train.shape, y_test.shape)"
   ]
  },
  {
   "cell_type": "code",
   "execution_count": 14,
   "metadata": {},
   "outputs": [
    {
     "data": {
      "text/plain": [
       "array([0, 0, 0, ..., 0, 0, 0], dtype=int64)"
      ]
     },
     "execution_count": 14,
     "metadata": {},
     "output_type": "execute_result"
    }
   ],
   "source": [
    "clf = RandomForestClassifier(n_estimators=100, max_depth=2, random_state=0)\n",
    "clf.fit(X_train, y_train)\n",
    "y_pred = clf.predict(X_test)\n",
    "y_pred"
   ]
  },
  {
   "cell_type": "markdown",
   "metadata": {},
   "source": [
    "Now, let's stop and think about what we want this Random Forest Classifier to do.  \n",
    "Theoretically, if there is no drift in our data, if there is no deterministic process that generates data, RF Classifier shouldn't do better than the toss of a coin, which means that _Accuracy should be around 0.5_.  \n",
    "If that isn't the case, we should be worried, because something in the stochastic process from which we have drawn the original training and testing set is not stochastic at all: the process changed inbetween the moment we collected the original training set and the moment new data (the original testing set) came into our pipeline."
   ]
  },
  {
   "cell_type": "code",
   "execution_count": 15,
   "metadata": {},
   "outputs": [
    {
     "data": {
      "text/plain": [
       "0.6999988296291094"
      ]
     },
     "execution_count": 15,
     "metadata": {},
     "output_type": "execute_result"
    }
   ],
   "source": [
    "skl.metrics.accuracy_score(y_test, y_pred, normalize=True, sample_weight=None)"
   ]
  },
  {
   "cell_type": "markdown",
   "metadata": {},
   "source": [
    "There seem to be a problem: how can the RF classifier have an accuracy score of nearly 70% if the split is random and it has not been told whether an observation was in the original training or testing set?  \n",
    "One way to answer this question might be to gather **_feature importances_**: usually, this is used to explain to an audience what are the most informative features in the decision trees that build the Random Forest ensemble, but here we use this method to understand what might be the features whose generative process changed the most. "
   ]
  },
  {
   "cell_type": "code",
   "execution_count": 16,
   "metadata": {},
   "outputs": [
    {
     "data": {
      "image/png": "[encoded data removed]",
      "text/plain": [
       "<Figure size 432x288 with 1 Axes>"
      ]
     },
     "metadata": {
      "needs_background": "light"
     },
     "output_type": "display_data"
    }
   ],
   "source": [
    "importances = clf.feature_importances_\n",
    "forest_importances = pd.Series(importances, index = X_train.columns)\n",
    "forest_importances.sort_values(axis=0, ascending=False, inplace=True)\n",
    "\n",
    "fig, ax = plt.subplots()\n",
    "forest_importances.plot.bar(ax=ax)\n",
    "ax.set_title(\"Feature importances in data drift detection\")\n",
    "ax.set_ylabel(\"Mean decrease in impurity\")\n",
    "fig.tight_layout()"
   ]
  },
  {
   "cell_type": "markdown",
   "metadata": {},
   "source": [
    "We now know what might be the features that changed the most their behaviour between training and testing period: of course, it will be the decision of the Data Scientist if and when to investigate further on the data drift theme. Said decision should be based on domain knowledge of data."
   ]
  },
  {
   "cell_type": "markdown",
   "metadata": {},
   "source": [
    "## **_Kolmogorov-Smirnov Test_**\n",
    "A very efficient way to determine whether two samples are significantly different from one another is the Kolmogorov-Smirnov test: KS statistic quantifies distance between the empirical distribution functions of two samples, and it does so detecting in-sample variance. This is particularly useful in our case, because we are interested in knowing if data in the training and testing set originates from different stochastic processes, that is to say if we are looking into a data drift problem. Of course, we want to check this for **EVERY feature** in our data.  \n",
    "Now, there is a function in the _stats_ package, called **_ks_2samp_**, that does exactly that, and takes two _np.arrays_ (in our case, a pair of the same feature from training and testing set) as an argument. This might be a problem, because our dataset could have tenths, hundres of features. We need to write a couple functions to avoid doing this manually. That can easily be done with a combination of data wrangling in _pandas_ and a _for loop_.   "
   ]
  },
  {
   "cell_type": "markdown",
   "metadata": {},
   "source": [
    "## Warning ##\n",
    "Please note that KS test only works on variables which distribution is **_continuos_**. We only have one non-continuos feature in our dataset, so we can just as well ignore it, but if you have multiple continuos features in your data might actually be a good idea to rewrite the for loop to run only for continuos variables. "
   ]
  },
  {
   "cell_type": "code",
   "execution_count": 153,
   "metadata": {},
   "outputs": [],
   "source": [
    "def ks_test_dd(feat1:pd.Series, feat2:pd.Series):\n",
    "# performs Kolmogorov-Smirnov two-sided sample test on 2 features from different datasets #\n",
    "# H0: two samples are drawn from the exact same distribution (the lower p-val, the higher chance distributions are different) #\n",
    "# RETURNS: a df with stat (float) and p-value (float) #\n",
    "\n",
    "    f1 = np.array(feat1.sample(n=10000))  #sampling the features and transforming them into arrays\n",
    "    f2 = np.array(feat2.sample(n=10000))\n",
    "\n",
    "    res = pd.DataFrame(sp.stats.ks_2samp(f1, f2, alternative=\"two-sided\", mode=\"auto\")) #running KS test on training and testing set features\n",
    "    res = res.T\n",
    "    res.columns = ['stat', 'p-value']\n",
    "\n",
    "    return res "
   ]
  },
  {
   "cell_type": "code",
   "execution_count": 154,
   "metadata": {},
   "outputs": [],
   "source": [
    "def data_drift_ks(train:pd.DataFrame, test:pd.DataFrame):\n",
    "# performs Kolmogorov-Smirnov two-sided sample test on each pair of features that are present both in training and testing data #\n",
    "# H0: two samples are drawn from the exact same distribution (the lower p-val, the higher chance distributions are different) #\n",
    "# RETURNS: a df with three columns: stat (float), p-value (float) and reject_H0 (bool) #\n",
    "\n",
    "    feats = train.columns\n",
    "    ks_res = pd.DataFrame(columns=['stat', 'p-value'])\n",
    "\n",
    "    for v in feats:\n",
    "        test_res = ks_test_dd(X_train_orig[v], X_test_orig[v])\n",
    "        test_res.index = [str(v)]\n",
    "        frames = [ks_res, test_res]\n",
    "        ks_res = pd.concat(frames)\n",
    "\n",
    "    ks_res['reject_H0'] = ks_res['p-value'] < 0.05 \n",
    "\n",
    "    return ks_res "
   ]
  },
  {
   "cell_type": "code",
   "execution_count": 156,
   "metadata": {},
   "outputs": [
    {
     "data": {
      "text/html": [
       "<div>\n",
       "<style scoped>\n",
       "    .dataframe tbody tr th:only-of-type {\n",
       "        vertical-align: middle;\n",
       "    }\n",
       "\n",
       "    .dataframe tbody tr th {\n",
       "        vertical-align: top;\n",
       "    }\n",
       "\n",
       "    .dataframe thead th {\n",
       "        text-align: right;\n",
       "    }\n",
       "</style>\n",
       "<table border=\"1\" class=\"dataframe\">\n",
       "  <thead>\n",
       "    <tr style=\"text-align: right;\">\n",
       "      <th></th>\n",
       "      <th>stat</th>\n",
       "      <th>p-value</th>\n",
       "      <th>reject_H0</th>\n",
       "    </tr>\n",
       "  </thead>\n",
       "  <tbody>\n",
       "    <tr>\n",
       "      <th>V1</th>\n",
       "      <td>0.0101</td>\n",
       "      <td>0.687549</td>\n",
       "      <td>False</td>\n",
       "    </tr>\n",
       "    <tr>\n",
       "      <th>V2</th>\n",
       "      <td>0.0122</td>\n",
       "      <td>0.446296</td>\n",
       "      <td>False</td>\n",
       "    </tr>\n",
       "    <tr>\n",
       "      <th>V3</th>\n",
       "      <td>0.0114</td>\n",
       "      <td>0.534270</td>\n",
       "      <td>False</td>\n",
       "    </tr>\n",
       "    <tr>\n",
       "      <th>V4</th>\n",
       "      <td>0.0087</td>\n",
       "      <td>0.843589</td>\n",
       "      <td>False</td>\n",
       "    </tr>\n",
       "    <tr>\n",
       "      <th>V5</th>\n",
       "      <td>0.0089</td>\n",
       "      <td>0.823267</td>\n",
       "      <td>False</td>\n",
       "    </tr>\n",
       "    <tr>\n",
       "      <th>V6</th>\n",
       "      <td>0.0167</td>\n",
       "      <td>0.122950</td>\n",
       "      <td>False</td>\n",
       "    </tr>\n",
       "    <tr>\n",
       "      <th>V7</th>\n",
       "      <td>0.0168</td>\n",
       "      <td>0.118902</td>\n",
       "      <td>False</td>\n",
       "    </tr>\n",
       "    <tr>\n",
       "      <th>V8</th>\n",
       "      <td>0.0080</td>\n",
       "      <td>0.906228</td>\n",
       "      <td>False</td>\n",
       "    </tr>\n",
       "    <tr>\n",
       "      <th>V9</th>\n",
       "      <td>0.0143</td>\n",
       "      <td>0.258234</td>\n",
       "      <td>False</td>\n",
       "    </tr>\n",
       "    <tr>\n",
       "      <th>V10</th>\n",
       "      <td>0.0096</td>\n",
       "      <td>0.746166</td>\n",
       "      <td>False</td>\n",
       "    </tr>\n",
       "    <tr>\n",
       "      <th>V11</th>\n",
       "      <td>0.0098</td>\n",
       "      <td>0.722940</td>\n",
       "      <td>False</td>\n",
       "    </tr>\n",
       "    <tr>\n",
       "      <th>V12</th>\n",
       "      <td>0.0084</td>\n",
       "      <td>0.872190</td>\n",
       "      <td>False</td>\n",
       "    </tr>\n",
       "    <tr>\n",
       "      <th>V13</th>\n",
       "      <td>0.0143</td>\n",
       "      <td>0.258234</td>\n",
       "      <td>False</td>\n",
       "    </tr>\n",
       "    <tr>\n",
       "      <th>V14</th>\n",
       "      <td>0.0166</td>\n",
       "      <td>0.127111</td>\n",
       "      <td>False</td>\n",
       "    </tr>\n",
       "    <tr>\n",
       "      <th>V15</th>\n",
       "      <td>0.0198</td>\n",
       "      <td>0.039664</td>\n",
       "      <td>True</td>\n",
       "    </tr>\n",
       "    <tr>\n",
       "      <th>V16</th>\n",
       "      <td>0.0089</td>\n",
       "      <td>0.823267</td>\n",
       "      <td>False</td>\n",
       "    </tr>\n",
       "    <tr>\n",
       "      <th>V17</th>\n",
       "      <td>0.0146</td>\n",
       "      <td>0.236906</td>\n",
       "      <td>False</td>\n",
       "    </tr>\n",
       "    <tr>\n",
       "      <th>V18</th>\n",
       "      <td>0.0070</td>\n",
       "      <td>0.967082</td>\n",
       "      <td>False</td>\n",
       "    </tr>\n",
       "    <tr>\n",
       "      <th>V19</th>\n",
       "      <td>0.0088</td>\n",
       "      <td>0.833544</td>\n",
       "      <td>False</td>\n",
       "    </tr>\n",
       "    <tr>\n",
       "      <th>V20</th>\n",
       "      <td>0.0089</td>\n",
       "      <td>0.823267</td>\n",
       "      <td>False</td>\n",
       "    </tr>\n",
       "    <tr>\n",
       "      <th>V21</th>\n",
       "      <td>0.0128</td>\n",
       "      <td>0.385748</td>\n",
       "      <td>False</td>\n",
       "    </tr>\n",
       "    <tr>\n",
       "      <th>V22</th>\n",
       "      <td>0.0152</td>\n",
       "      <td>0.198255</td>\n",
       "      <td>False</td>\n",
       "    </tr>\n",
       "    <tr>\n",
       "      <th>V23</th>\n",
       "      <td>0.0110</td>\n",
       "      <td>0.580642</td>\n",
       "      <td>False</td>\n",
       "    </tr>\n",
       "    <tr>\n",
       "      <th>V24</th>\n",
       "      <td>0.0125</td>\n",
       "      <td>0.415380</td>\n",
       "      <td>False</td>\n",
       "    </tr>\n",
       "    <tr>\n",
       "      <th>V25</th>\n",
       "      <td>0.0146</td>\n",
       "      <td>0.236906</td>\n",
       "      <td>False</td>\n",
       "    </tr>\n",
       "    <tr>\n",
       "      <th>V26</th>\n",
       "      <td>0.0151</td>\n",
       "      <td>0.204335</td>\n",
       "      <td>False</td>\n",
       "    </tr>\n",
       "    <tr>\n",
       "      <th>V27</th>\n",
       "      <td>0.0110</td>\n",
       "      <td>0.580642</td>\n",
       "      <td>False</td>\n",
       "    </tr>\n",
       "    <tr>\n",
       "      <th>V28</th>\n",
       "      <td>0.0086</td>\n",
       "      <td>0.853388</td>\n",
       "      <td>False</td>\n",
       "    </tr>\n",
       "    <tr>\n",
       "      <th>Amount</th>\n",
       "      <td>0.0130</td>\n",
       "      <td>0.366736</td>\n",
       "      <td>False</td>\n",
       "    </tr>\n",
       "    <tr>\n",
       "      <th>Target</th>\n",
       "      <td>1.0000</td>\n",
       "      <td>0.000000</td>\n",
       "      <td>True</td>\n",
       "    </tr>\n",
       "  </tbody>\n",
       "</table>\n",
       "</div>"
      ],
      "text/plain": [
       "          stat   p-value  reject_H0\n",
       "V1      0.0101  0.687549      False\n",
       "V2      0.0122  0.446296      False\n",
       "V3      0.0114  0.534270      False\n",
       "V4      0.0087  0.843589      False\n",
       "V5      0.0089  0.823267      False\n",
       "V6      0.0167  0.122950      False\n",
       "V7      0.0168  0.118902      False\n",
       "V8      0.0080  0.906228      False\n",
       "V9      0.0143  0.258234      False\n",
       "V10     0.0096  0.746166      False\n",
       "V11     0.0098  0.722940      False\n",
       "V12     0.0084  0.872190      False\n",
       "V13     0.0143  0.258234      False\n",
       "V14     0.0166  0.127111      False\n",
       "V15     0.0198  0.039664       True\n",
       "V16     0.0089  0.823267      False\n",
       "V17     0.0146  0.236906      False\n",
       "V18     0.0070  0.967082      False\n",
       "V19     0.0088  0.833544      False\n",
       "V20     0.0089  0.823267      False\n",
       "V21     0.0128  0.385748      False\n",
       "V22     0.0152  0.198255      False\n",
       "V23     0.0110  0.580642      False\n",
       "V24     0.0125  0.415380      False\n",
       "V25     0.0146  0.236906      False\n",
       "V26     0.0151  0.204335      False\n",
       "V27     0.0110  0.580642      False\n",
       "V28     0.0086  0.853388      False\n",
       "Amount  0.0130  0.366736      False\n",
       "Target  1.0000  0.000000       True"
      ]
     },
     "execution_count": 156,
     "metadata": {},
     "output_type": "execute_result"
    }
   ],
   "source": [
    "data_drift_ks(X_train_orig, X_test_orig)"
   ]
  },
  {
   "cell_type": "markdown",
   "metadata": {},
   "source": [
    "Success! As we can see from the output table, we don't reject the null hyphotesis for any feature in the dataset: remember that 'Target' was added by us and marks observation belonging to the original training or testing set: it does not come from a continuos distribution, so we just ignore that result. This brings us to assert that for each feature, there is no significant difference in its distribution across training and testing set, which is of course what we expected."
   ]
  },
  {
   "cell_type": "markdown",
   "metadata": {},
   "source": [
    "## Conclusion ##\n",
    "We have briefly explored Data Drift theme and two ways to detect it in advance. The suggestion is to implement one or both checks, RF and KS test, in your ML pipeline, right after importing new data."
   ]
  },
  {
   "cell_type": "markdown",
   "metadata": {},
   "source": [
    "## Acknowledgements ##\n",
    "The dataset has been collected and analysed during a research collaboration of Worldline and the Machine Learning Group (http://mlg.ulb.ac.be) of ULB (Université Libre de Bruxelles) on big data mining and fraud detection.\n",
    "More details on current and past projects on related topics are available on https://www.researchgate.net/project/Fraud-detection-5 and the page of the DefeatFraud project\n",
    "\n",
    "Please cite the following works:\n",
    "\n",
    "Andrea Dal Pozzolo, Olivier Caelen, Reid A. Johnson and Gianluca Bontempi. Calibrating Probability with Undersampling for Unbalanced Classification. In Symposium on Computational Intelligence and Data Mining (CIDM), IEEE, 2015\n",
    "\n",
    "Dal Pozzolo, Andrea; Caelen, Olivier; Le Borgne, Yann-Ael; Waterschoot, Serge; Bontempi, Gianluca. Learned lessons in credit card fraud detection from a practitioner perspective, Expert systems with applications,41,10,4915-4928,2014, Pergamon\n",
    "\n",
    "Dal Pozzolo, Andrea; Boracchi, Giacomo; Caelen, Olivier; Alippi, Cesare; Bontempi, Gianluca. Credit card fraud detection: a realistic modeling and a novel learning strategy, IEEE transactions on neural networks and learning systems,29,8,3784-3797,2018,IEEE\n",
    "\n",
    "Dal Pozzolo, Andrea Adaptive Machine learning for credit card fraud detection ULB MLG PhD thesis (supervised by G. Bontempi)\n",
    "\n",
    "Carcillo, Fabrizio; Dal Pozzolo, Andrea; Le Borgne, Yann-Aël; Caelen, Olivier; Mazzer, Yannis; Bontempi, Gianluca. Scarff: a scalable framework for streaming credit card fraud detection with Spark, Information fusion,41, 182-194,2018,Elsevier\n",
    "\n",
    "Carcillo, Fabrizio; Le Borgne, Yann-Aël; Caelen, Olivier; Bontempi, Gianluca. Streaming active learning strategies for real-life credit card fraud detection: assessment and visualization, International Journal of Data Science and Analytics, 5,4,285-300,2018,Springer International Publishing\n",
    "\n",
    "Bertrand Lebichot, Yann-Aël Le Borgne, Liyun He, Frederic Oblé, Gianluca Bontempi Deep-Learning Domain Adaptation Techniques for Credit Cards Fraud Detection, INNSBDDL 2019: Recent Advances in Big Data and Deep Learning, pp 78-88, 2019\n",
    "\n",
    "Fabrizio Carcillo, Yann-Aël Le Borgne, Olivier Caelen, Frederic Oblé, Gianluca Bontempi Combining Unsupervised and Supervised Learning in Credit Card Fraud Detection Information Sciences, 2019\n",
    "\n",
    "Yann-Aël Le Borgne, Gianluca Bontempi Machine Learning for Credit Card Fraud Detection - Practical Handbook"
   ]
  }
 ],
 "metadata": {
  "interpreter": {
   "hash": "f14ba2ee5a049ba211b8d4d2cb272f932c8c352687f45f1fa6cbec4436d95677"
  },
  "kernelspec": {
   "display_name": "Python 3.8.5 32-bit",
   "name": "python3"
  },
  "language_info": {
   "codemirror_mode": {
    "name": "ipython",
    "version": 3
   },
   "file_extension": ".py",
   "mimetype": "text/x-python",
   "name": "python",
   "nbconvert_exporter": "python",
   "pygments_lexer": "ipython3",
   "version": "3.8.5"
  },
  "orig_nbformat": 4
 },
 "nbformat": 4,
 "nbformat_minor": 2
}
